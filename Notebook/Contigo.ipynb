{
 "cells": [
  {
   "cell_type": "markdown",
   "metadata": {},
   "source": [
    "## Caso CONTIGO\n",
    "\n",
    "### Case description\n",
    "\n",
    "#### Part 1: Analysis of the state of the business.\n",
    "\n",
    "You are a business analyst working for a startup that has one credit product called Contigo. Depending on their risk level, the customer will receive:\n",
    "\n",
    "1. Contigo A, a $1000 MXN loan to be paid in full after one month with 15% interest. This product is\n",
    "given to higher risk customers (less likely to pay back).\n",
    "2. Contigo B, a $2000 MXN peso loan to be paid in full after one month with 10% interest. This\n",
    "product is given to lower risk customers (more likely to pay back).\n",
    "\n",
    "The team has set the interest rates for the Contigo product from past debt delinquency (DQ) rates, meaning these are the interest rates that maximize total profits – the # of accounts times the per-account net income. **Note that higher interest rates drive higher average per-unit net income, but attract fewer\n",
    "customers to open accounts.**\n",
    "\n",
    "However, Contigo’s delinquency rates have been rising. It is estimated that the monthly DQ rate for Contigo A will be 13.5% and 6% for Contigo B through the end of this year. For the purposes of this case, we’re defining\n",
    "\n",
    "- DQ rate: #accounts_that_did_not_pay_back / #total_originated_accounts. \n",
    "\n",
    "The payback outcome in the numerator is binary (0/1) – either someone paid back their total debt or they did not pay at all.Contigo does not allow partial debt repayments.\n",
    "\n",
    "- 0 --> paid back\n",
    "- 1 --> Not paid back at all\n",
    "\n",
    "Ignoring the worsening of DQ rates, your startup has an ambitious growth plan for the year. At month 1, the company had a total of 5,000 Contigo A customers, expected to grow at a rate of 25% month-overmonth. Contigo B has a larger share of customers, 10,000 in total. But with a very competitive market for premium loans, Contigo B is expected to grow at a 10% month over month rate throughout the year.\n",
    "\n",
    "The operational cost of this startup scales proportionately to its customer base, with negligible fixed expenses. __The current monthly operating cost per account sits at $30 MXN.__ \n",
    "\n",
    "Leadership is concerned that the change in DQ rates and the aggressive expansion may reduce profitability in the following months, so they asked you to make a forecast on the net income of its operation (ignoring taxes) in the next 12 months.\n",
    "\n",
    "### Questions:\n",
    "\n",
    "- 1. What factors may be against the profitability of the startup? What should we look at in an analysis of the net income for the following months?\n",
    "\n",
    "R= So, as I look into our startup's Net income that affects directly our profitability for the next months based in the information that was provided in the case.\n",
    "\n",
    "**Net Income** = Revenue−Expenses−Losses\n",
    "\n",
    "Firstly, the escalating delinquency rates for both Contigo A and B are a cause for concern. The increase in defaults poses a direct threat to our revenue stream, potentially necessitating additional expenditure on collections.\n",
    "\n",
    "Then there's customer acquisition costs. If those shoot up because of competition or changes in marketing, it's eating into our profits. We've also to keep operations tight. So, streamlining processes is a priority. Economic shifts matter too. If things take a downturn, we could see more people defaulting. \n",
    "\n",
    "In conclusion, the main factors that we should have into consideration are:\n",
    "- Rising delinquency rates\n",
    "- The customer acquisition costs.\n",
    "\n",
    "These factors directly influence our Net income, making them critical focal points for strategic management.\n",
    "\n",
    "\n",
    "- 2. Is this startup going to be profitable during the next 12 months? What are the major trends driving changes in net income? Suggestion: Build a model for net income and forecast it for the next 12 months. Hint: losses come from the total debt not being repaid, and revenue comes from collected interest. We will only consider operation costs as expenses.\n",
    "\n",
    "#### Forecast model\n",
    "\n",
    "As it was suggested, we´ll build firt our forecast model before we answer the question"
   ]
  },
  {
   "cell_type": "code",
   "execution_count": 1,
   "metadata": {},
   "outputs": [
    {
     "name": "stdout",
     "output_type": "stream",
     "text": [
      "Month 1: Net Income = $425000.00 MXN\n",
      "Month 2: Net Income = $456250.00 MXN\n",
      "Month 3: Net Income = $487812.50 MXN\n",
      "Month 4: Net Income = $519015.63 MXN\n",
      "Month 5: Net Income = $548944.53 MXN\n",
      "Month 6: Net Income = $576373.16 MXN\n",
      "Month 7: Net Income = $599678.21 MXN\n",
      "Month 8: Net Income = $616730.68 MXN\n",
      "Month 9: Net Income = $624759.57 MXN\n",
      "Month 10: Net Income = $620180.30 MXN\n",
      "Month 11: Net Income = $598379.30 MXN\n",
      "Month 12: Net Income = $553443.44 MXN\n",
      "The startup is projected to be profitable over the next 12 months.\n"
     ]
    }
   ],
   "source": [
    "# Define initial variables and parameters\n",
    "CA_init = 5000\n",
    "CB_init = 10000\n",
    "growth_rate_CA = 0.25\n",
    "growth_rate_CB = 0.10\n",
    "DQ_rate_CA = 0.135\n",
    "DQ_rate_CB = 0.06\n",
    "loan_amount_CA = 1000\n",
    "loan_amount_CB = 2000\n",
    "interest_rate_CA = 0.15\n",
    "interest_rate_CB = 0.10\n",
    "operating_cost_per_account = 30\n",
    "months = 12\n",
    "\n",
    "# Initialize lists to store results\n",
    "revenue_CA = []\n",
    "revenue_CB = []\n",
    "losses_CA = []\n",
    "losses_CB = []\n",
    "operating_cost = []\n",
    "net_income = []\n",
    "\n",
    "# Calculate and forecast\n",
    "CA_current = CA_init\n",
    "CB_current = CB_init\n",
    "for month in range(months):\n",
    "    # Calculate revenue\n",
    "    revenue_CA_month = CA_current * loan_amount_CA * interest_rate_CA\n",
    "    revenue_CB_month = CB_current * loan_amount_CB * interest_rate_CB\n",
    "    revenue_CA.append(revenue_CA_month)\n",
    "    revenue_CB.append(revenue_CB_month)\n",
    "    \n",
    "    # Calculate losses\n",
    "    losses_CA_month = CA_current * DQ_rate_CA * loan_amount_CA\n",
    "    losses_CB_month = CB_current * DQ_rate_CB * loan_amount_CB\n",
    "    losses_CA.append(losses_CA_month)\n",
    "    losses_CB.append(losses_CB_month)\n",
    "    \n",
    "    # Calculate operating cost\n",
    "    operating_cost_month = (CA_current + CB_current) * operating_cost_per_account\n",
    "    operating_cost.append(operating_cost_month)\n",
    "    \n",
    "    # Calculate net income\n",
    "    # Here we´ll be able to answer the question --> What are the major trends driving changes in net income? \n",
    "    net_income_month = (revenue_CA_month + revenue_CB_month) - (losses_CA_month + losses_CB_month) - operating_cost_month\n",
    "    net_income.append(net_income_month)\n",
    "    \n",
    "    # Project the number of customers for next month\n",
    "    CA_current *= (1 + growth_rate_CA)\n",
    "    CB_current *= (1 + growth_rate_CB)\n",
    "\n",
    "# Check profitability\n",
    "profitable = all(net_income[i] >= 0 for i in range(months))\n",
    "\n",
    "# Print forecasted net income for the next 12 months\n",
    "for month in range(months):\n",
    "    print(f\"Month {month+1}: Net Income = ${net_income[month]:.2f} MXN\")\n",
    "\n",
    "# Output whether the startup will be profitable\n",
    "if profitable:\n",
    "    print(\"The startup is projected to be profitable over the next 12 months.\")\n",
    "else:\n",
    "    print(\"The startup is projected to be unprofitable over the next 12 months.\")\n"
   ]
  },
  {
   "cell_type": "markdown",
   "metadata": {},
   "source": [
    "Now let's look at our forecast in a more graphic way to understand the trend"
   ]
  },
  {
   "cell_type": "code",
   "execution_count": 2,
   "metadata": {},
   "outputs": [
    {
     "data": {
      "image/png": "[encoded data removed]",
      "text/plain": [
       "<Figure size 1000x600 with 1 Axes>"
      ]
     },
     "metadata": {},
     "output_type": "display_data"
    }
   ],
   "source": [
    "import matplotlib.pyplot as plt\n",
    "\n",
    "# Define the months for the x-axis\n",
    "months_range = range(1, months + 1)\n",
    "\n",
    "# Plot the net income over the next 12 months\n",
    "plt.figure(figsize=(10, 6))\n",
    "plt.plot(months_range, net_income, marker='o', color='b', label='Net Income')\n",
    "\n",
    "# Add labels and title\n",
    "plt.xlabel('Month')\n",
    "plt.ylabel('Net Income (MXN)')\n",
    "plt.title('Forecasted Net Income Over the Next 12 Months')\n",
    "plt.grid(True)\n",
    "\n",
    "# Add legend\n",
    "plt.legend()\n",
    "\n",
    "# Show plot\n",
    "plt.show()\n"
   ]
  },
  {
   "cell_type": "markdown",
   "metadata": {},
   "source": [
    "### Conclusion\n",
    "As we can see in the previous graph, our forecast is positive until month 9. From then on we will have to adjust our parameters so that the profit does not decrease."
   ]
  },
  {
   "cell_type": "markdown",
   "metadata": {},
   "source": [
    "- 3. What changes are required to sustain the business not only throughout the year but in the long run? Build a proposal of changes to main startup KPIs to achieve this goal. Discuss what difficulties the startup may find in applying your recommendation.\n",
    "\n",
    "R= Based on the forecast model created previously, the recommendation is to focus mainly on these three indicators:\n",
    "\n",
    "#### KPI´s\n",
    "##### Customer Acquisition Cost (CAC):\n",
    "- Proposal: Reduce customer acquisition costs through more efficient marketing strategies, such as optimizing digital channels and implementing customer referral programs. The difficulty we would encounter is that our marketing strategies are not effective. However, at a financial level it is a key point since it is a single variable that affects our profitability. \n",
    "##### Customer Retention Rate:\n",
    "- Proposal: Improve customer retention through personalized services, effective communication, and loyalty programs. Implement feedback systems to understand and address customer needs. This strategy goes hand in hand with the CAC, the difficulty lies in the fact that the process of acquiring new clients is not well structured so that our service is impeccable.\n",
    "##### Credit Risk Management:\n",
    "- Proposal: Strengthen credit risk management by using advanced data analytics and machine learning algorithms to enhance accuracy in identifying high-risk customers. The main difficulty could be that this model that would be worked on was not in line with the ambitious growth that you propose. However, we could make a cost-benefit matrix to see which of the two options is more profitable for the business? Have more clients who may not pay or less than if they pay their loans."
   ]
  },
  {
   "cell_type": "markdown",
   "metadata": {},
   "source": [
    "#### Part 2: Analysis of a collection strategy.\n",
    "\n",
    "The Credit department has decided to prioritize collections on Contigo A customers, since they have a higher DQ rate. A collections analyst has determined that a DQ rate of 10% will be enough to render this customer segment profitable. The team has decided to apply immediate action from month 1 and is looking for a collection strategy to recover (at least!) 175 of the 675 accounts that went delinquent, out of\n",
    "the starting 5,000 Contigo A accounts.\n",
    "\n",
    "One idea is to collect by calling the customer. Using the previous collection results, the data science team has created a model to estimate contactability (i.e. the probability of reaching the customer successfully by calling)  and has delivered their calculations to you (please, consult the spreadsheet called\n",
    "contactabilty_scores). The collections team estimates that the customer will pay around three quarters of the time after being contacted, and it has no chance to pay if they never connect the call. Calling the customer is quite expensive! Operations has determined that a phone call campaign costs around 30 pesos per DQ customer, regardless of the contact result.\n",
    "\n",
    "**For this second part I will follow the following steps to resolve the case**\n",
    "\n",
    "#### 1. Downloading csv file\n",
    "\n",
    "The file was downloaded and placed in the \"data\" folder.\n",
    "\n",
    "#### 2. Upload it to our PostgreSQL database manager.\n",
    "\n",
    "2.1. BD and Table creation\n",
    "\n",
    "- Table Creation command:"
   ]
  },
  {
   "cell_type": "code",
   "execution_count": 1,
   "metadata": {},
   "outputs": [
    {
     "data": {
      "text/plain": [
       "'Create table Contigo (\\n\\tcustomer_id varchar(80),\\n\\tcontactability_score numeric,\\n\\ttotal_debt numeric,\\n\\tinterest numeric\\t\\n)\\n'"
      ]
     },
     "execution_count": 1,
     "metadata": {},
     "output_type": "execute_result"
    }
   ],
   "source": [
    "\"\"\"Create table Contigo (\n",
    "\tcustomer_id varchar(80),\n",
    "\tcontactability_score numeric,\n",
    "\ttotal_debt numeric,\n",
    "\tinterest numeric\t\n",
    ")\n",
    "\"\"\""
   ]
  },
  {
   "cell_type": "markdown",
   "metadata": {},
   "source": [
    "- Import data command:"
   ]
  },
  {
   "cell_type": "code",
   "execution_count": null,
   "metadata": {},
   "outputs": [],
   "source": [
    "\"\"\"copy public.contigo (customer_id, contactability_score, \n",
    "                        total_debt, interest) \n",
    "FROM 'C:/Users/calde/OneDrive/ESCRIT~1/STORIB~1/Data/CONTAC~1.CSV' \n",
    "DELIMITER ',' \n",
    "CSV HEADER \n",
    "ENCODING 'UTF8' QUOTE '\\\"' ESCAPE '''';\n",
    "\"\"\"\"\""
   ]
  },
  {
   "cell_type": "markdown",
   "metadata": {},
   "source": [
    "#### 3. Establishing a database connection with Python\n",
    "\n",
    "This step is primarily done in order to conduct an EDA (Exploratory Data Analysis)."
   ]
  },
  {
   "cell_type": "code",
   "execution_count": 2,
   "metadata": {},
   "outputs": [],
   "source": [
    "# Import libraries\n",
    "import psycopg2\n",
    "import psycopg2.extras\n",
    "import pandas as pd\n",
    "import os \n",
    "from pathlib import Path \n",
    "from psycopg2 import sql"
   ]
  },
  {
   "cell_type": "code",
   "execution_count": 25,
   "metadata": {},
   "outputs": [],
   "source": [
    "#Establish connection\n",
    "connection = psycopg2.connect(\n",
    "        host= 'localhost',\n",
    "        dbname = \"Stori_Contigo_Challenge\",\n",
    "        user= \"postgres\" ,\n",
    "        password = 'Lmop-1549f',\n",
    "        port = 5432)"
   ]
  },
  {
   "cell_type": "markdown",
   "metadata": {},
   "source": [
    "#### 4. I begin querying my table to conduct my EDA."
   ]
  },
  {
   "cell_type": "code",
   "execution_count": 27,
   "metadata": {},
   "outputs": [],
   "source": [
    "#Query Statement\n",
    "Statement1 = \"\"\"\n",
    "SELECT customer_id,\n",
    "contactability_score,\n",
    "total_debt,\n",
    "interest \n",
    "FROM Contigo\n",
    "\"\"\""
   ]
  },
  {
   "cell_type": "code",
   "execution_count": 28,
   "metadata": {},
   "outputs": [
    {
     "name": "stdout",
     "output_type": "stream",
     "text": [
      "<class 'list'>\n"
     ]
    }
   ],
   "source": [
    "# Use the cursor to aim the data\n",
    "cursor = connection.cursor(cursor_factory=psycopg2.extras.DictCursor)\n",
    "cursor.execute(Statement1)\n",
    "df = cursor.fetchall()\n",
    "print(type(df))"
   ]
  },
  {
   "cell_type": "code",
   "execution_count": 29,
   "metadata": {},
   "outputs": [
    {
     "data": {
      "text/html": [
       "<div>\n",
       "<style scoped>\n",
       "    .dataframe tbody tr th:only-of-type {\n",
       "        vertical-align: middle;\n",
       "    }\n",
       "\n",
       "    .dataframe tbody tr th {\n",
       "        vertical-align: top;\n",
       "    }\n",
       "\n",
       "    .dataframe thead th {\n",
       "        text-align: right;\n",
       "    }\n",
       "</style>\n",
       "<table border=\"1\" class=\"dataframe\">\n",
       "  <thead>\n",
       "    <tr style=\"text-align: right;\">\n",
       "      <th></th>\n",
       "      <th>customer_id</th>\n",
       "      <th>contactability_score</th>\n",
       "      <th>total_debt</th>\n",
       "      <th>interest</th>\n",
       "    </tr>\n",
       "  </thead>\n",
       "  <tbody>\n",
       "    <tr>\n",
       "      <th>0</th>\n",
       "      <td>1</td>\n",
       "      <td>0.293</td>\n",
       "      <td>1000</td>\n",
       "      <td>150</td>\n",
       "    </tr>\n",
       "    <tr>\n",
       "      <th>1</th>\n",
       "      <td>2</td>\n",
       "      <td>0.25</td>\n",
       "      <td>1000</td>\n",
       "      <td>150</td>\n",
       "    </tr>\n",
       "    <tr>\n",
       "      <th>2</th>\n",
       "      <td>3</td>\n",
       "      <td>0.033</td>\n",
       "      <td>1000</td>\n",
       "      <td>150</td>\n",
       "    </tr>\n",
       "    <tr>\n",
       "      <th>3</th>\n",
       "      <td>4</td>\n",
       "      <td>0.239</td>\n",
       "      <td>1000</td>\n",
       "      <td>150</td>\n",
       "    </tr>\n",
       "    <tr>\n",
       "      <th>4</th>\n",
       "      <td>5</td>\n",
       "      <td>0.681</td>\n",
       "      <td>1000</td>\n",
       "      <td>150</td>\n",
       "    </tr>\n",
       "  </tbody>\n",
       "</table>\n",
       "</div>"
      ],
      "text/plain": [
       "  customer_id contactability_score total_debt interest\n",
       "0           1                0.293       1000      150\n",
       "1           2                 0.25       1000      150\n",
       "2           3                0.033       1000      150\n",
       "3           4                0.239       1000      150\n",
       "4           5                0.681       1000      150"
      ]
     },
     "execution_count": 29,
     "metadata": {},
     "output_type": "execute_result"
    }
   ],
   "source": [
    "import pandas as pd\n",
    "df = pd.DataFrame(df)\n",
    "df.columns =[\"customer_id\",\"contactability_score\",\"total_debt\",\"interest\"]\n",
    "df.head(5)"
   ]
  },
  {
   "cell_type": "code",
   "execution_count": 7,
   "metadata": {},
   "outputs": [
    {
     "name": "stdout",
     "output_type": "stream",
     "text": [
      "<class 'pandas.core.frame.DataFrame'>\n",
      "RangeIndex: 675 entries, 0 to 674\n",
      "Data columns (total 4 columns):\n",
      " #   Column                Non-Null Count  Dtype \n",
      "---  ------                --------------  ----- \n",
      " 0   customer_id           675 non-null    object\n",
      " 1   contactability_score  675 non-null    object\n",
      " 2   total_debt            675 non-null    object\n",
      " 3   interest              675 non-null    object\n",
      "dtypes: object(4)\n",
      "memory usage: 21.2+ KB\n"
     ]
    }
   ],
   "source": [
    "#Dataframe Info \n",
    "df.info()"
   ]
  },
  {
   "cell_type": "code",
   "execution_count": 8,
   "metadata": {},
   "outputs": [],
   "source": [
    "# Converting Python DataFrame data types\n",
    "df['contactability_score'] = df['contactability_score'].astype('float') \n",
    "df['total_debt'] = df['total_debt'] .astype('float') \n",
    "df['interest'] = df['interest'].astype('float') "
   ]
  },
  {
   "cell_type": "code",
   "execution_count": 11,
   "metadata": {},
   "outputs": [
    {
     "data": {
      "text/plain": [
       "float64    3\n",
       "object     1\n",
       "dtype: int64"
      ]
     },
     "execution_count": 11,
     "metadata": {},
     "output_type": "execute_result"
    }
   ],
   "source": [
    "#Count by variable type\n",
    "df.dtypes.value_counts()"
   ]
  },
  {
   "cell_type": "code",
   "execution_count": 12,
   "metadata": {},
   "outputs": [
    {
     "data": {
      "text/plain": [
       "(675, 4)"
      ]
     },
     "execution_count": 12,
     "metadata": {},
     "output_type": "execute_result"
    }
   ],
   "source": [
    "# Dataframe size\n",
    "df.shape"
   ]
  },
  {
   "cell_type": "markdown",
   "metadata": {},
   "source": [
    "#### Are there explicit null values in the dataset?"
   ]
  },
  {
   "cell_type": "code",
   "execution_count": 13,
   "metadata": {},
   "outputs": [
    {
     "data": {
      "text/plain": [
       "customer_id             False\n",
       "contactability_score    False\n",
       "total_debt              False\n",
       "interest                False\n",
       "dtype: bool"
      ]
     },
     "execution_count": 13,
     "metadata": {},
     "output_type": "execute_result"
    }
   ],
   "source": [
    "df.isnull().any()"
   ]
  },
  {
   "cell_type": "markdown",
   "metadata": {},
   "source": [
    "#### Let's explore our outlier values."
   ]
  },
  {
   "cell_type": "code",
   "execution_count": 15,
   "metadata": {},
   "outputs": [
    {
     "name": "stdout",
     "output_type": "stream",
     "text": [
      "Variables categóricas:\n",
      "Index(['customer_id'], dtype='object')\n",
      "\n",
      "Variables numéricas:\n",
      "Index(['contactability_score', 'total_debt', 'interest'], dtype='object')\n"
     ]
    }
   ],
   "source": [
    "# Get columns with object data types (categorical)\n",
    "categoricas = df.select_dtypes(include=['object'])\n",
    "\n",
    "# Get columns with numeric data types\n",
    "numericas = df.select_dtypes(exclude=['object'])\n",
    "\n",
    "# Show the column names in each group\n",
    "print(\"Categorical variables:\")\n",
    "print(categoricas.columns)\n",
    "\n",
    "print(\"\\nNumerical variables:\")\n",
    "print(numericas.columns)"
   ]
  },
  {
   "cell_type": "code",
   "execution_count": 14,
   "metadata": {},
   "outputs": [],
   "source": [
    "#I define my function to avoid repeating code\n",
    "def calcular_quartiles(columna):\n",
    "    promedio = columna.mean()\n",
    "    median = columna.median()\n",
    "    Q1 = columna.quantile(q=0.25)\n",
    "    Q3 = columna.quantile(q=0.75)\n",
    "    min_val = columna.quantile(q=0)\n",
    "    max_val = columna.quantile(q=1.0)\n",
    "    return min_val, Q1, promedio,  median, Q3, max_val"
   ]
  },
  {
   "cell_type": "code",
   "execution_count": 18,
   "metadata": {},
   "outputs": [
    {
     "name": "stdout",
     "output_type": "stream",
     "text": [
      "  Estadística     Valor\n",
      "0      Mínimo  0.001000\n",
      "1          Q1  0.166500\n",
      "2    promedio  0.418813\n",
      "3     Mediana  0.378000\n",
      "4          Q3  0.651000\n",
      "5      Máximo  0.999000\n"
     ]
    }
   ],
   "source": [
    "# Execute the calculate_quartiles function for a specific column.\n",
    "min_val, Q1, promedio,  median, Q3, max_val = calcular_quartiles(numericas[\"contactability_score\"])\n",
    "\n",
    "# Create a DataFrame with the results\n",
    "balance_results = pd.DataFrame({\n",
    "    'Statistics': ['Min', 'Q1', 'Mean','Median', 'Q3', 'Max'],\n",
    "    'Value': [min_val, Q1, promedio, median, Q3, max_val]\n",
    "})\n",
    "\n",
    "# Display the DataFrame with the results\n",
    "print(balance_results)"
   ]
  },
  {
   "cell_type": "markdown",
   "metadata": {},
   "source": [
    "#### Thresholds for outlier detection (symmetrically distributed data)."
   ]
  },
  {
   "cell_type": "code",
   "execution_count": 19,
   "metadata": {},
   "outputs": [
    {
     "name": "stdout",
     "output_type": "stream",
     "text": [
      "rango para detección de outliers: -0.56025, 1.37775\n"
     ]
    }
   ],
   "source": [
    "# Find my IQR (Interquartile Range).\n",
    "iqr = Q3 - Q1\n",
    "## Range\n",
    "minlimit = Q1 - 1.5*iqr\n",
    "maxlimit = Q3 + 1.5*iqr\n",
    "print('range for outlier detection: {}, {}'.format(minlimit, maxlimit))"
   ]
  },
  {
   "cell_type": "code",
   "execution_count": 20,
   "metadata": {},
   "outputs": [
    {
     "name": "stdout",
     "output_type": "stream",
     "text": [
      "0.48450000000000004     0.1665     0.651     0.41881333333333326\n"
     ]
    }
   ],
   "source": [
    "print(iqr,\"   \",Q1,\"   \",Q3, \"   \", promedio )"
   ]
  },
  {
   "cell_type": "code",
   "execution_count": 22,
   "metadata": {},
   "outputs": [],
   "source": [
    "import seaborn as sns\n",
    "import matplotlib.pyplot as plt"
   ]
  },
  {
   "cell_type": "code",
   "execution_count": 25,
   "metadata": {},
   "outputs": [
    {
     "data": {
      "text/plain": [
       "[Text(0.5, 0, '')]"
      ]
     },
     "execution_count": 25,
     "metadata": {},
     "output_type": "execute_result"
    },
    {
     "data": {
      "image/png": "[encoded data removed]",
      "text/plain": [
       "<Figure size 1000x800 with 2 Axes>"
      ]
     },
     "metadata": {},
     "output_type": "display_data"
    }
   ],
   "source": [
    "sns.set(rc={'figure.figsize':(10,8)})\n",
    "f, (ax_hist, ax_box) = plt.subplots(2, sharex=True, gridspec_kw={\"height_ratios\": (.6, .4)})\n",
    "sns.histplot(numericas[\"contactability_score\"], ax=ax_hist)\n",
    "sns.boxplot(data=numericas, x=\"contactability_score\", ax=ax_box)\n",
    "ax_hist.set(xlabel='')"
   ]
  },
  {
   "cell_type": "markdown",
   "metadata": {},
   "source": [
    "### Conclusion EDA\n",
    "\n",
    "Data is very clean\n",
    "\n",
    "### Questions:\n",
    "\n",
    "- Assuming that we launch this campaign to all of the 675 DQ customers, a manager asks you to compute the probable result of this campaign, asking you to deliver estimates on the following KPIs:\n",
    "\n",
    "a. Recovered accounts.\n",
    "\n",
    "R= To achieve this I will multiply the contactability_score by each customer and use the following logic:\n",
    "\n",
    "If I have 23% chance that I contact a customer, I don't have a lead but a 0.23 lead. Then I will add up all these leads to have according to the contactability_score given the number of recovered accounts."
   ]
  },
  {
   "cell_type": "code",
   "execution_count": 30,
   "metadata": {},
   "outputs": [
    {
     "name": "stdout",
     "output_type": "stream",
     "text": [
      "Approximate number of accounts recovered: 283\n"
     ]
    }
   ],
   "source": [
    "# List of contactability_scores for each client\n",
    "contactability_scores = df[\"contactability_score\"]\n",
    "\n",
    "# Total number of DQ customers\n",
    "total_clientes_DQ = 675\n",
    "\n",
    "# Multiplying each contactability_score by 1 (does not change the value)\n",
    "valores_recuperados = [score * 1 for score in contactability_scores]\n",
    "\n",
    "# Sum the values of each row to obtain an estimate of the number of accounts recovered.\n",
    "cuentas_recuperadas = round(sum(valores_recuperados))\n",
    "\n",
    "print(\"Approximate number of accounts recovered:\", cuentas_recuperadas)"
   ]
  },
  {
   "cell_type": "markdown",
   "metadata": {},
   "source": [
    "b. Recovered total debt.\n",
    "\n",
    "R= To obtain this indicator my procedure will be:\n",
    "\n",
    "- Establish the total amount of outstanding debt for each DQ account.\n",
    "- Calculate the total amount of outstanding debt for all DQ accounts.\n",
    "- Multiply the average total amount of outstanding debt recovered by the estimated number of accounts recovered."
   ]
  },
  {
   "cell_type": "code",
   "execution_count": 31,
   "metadata": {},
   "outputs": [
    {
     "name": "stdout",
     "output_type": "stream",
     "text": [
      "Total debt recovered: 283000\n"
     ]
    }
   ],
   "source": [
    "# It is a constant for all the contigo b customer\n",
    "total_debt_pending = 1000\n",
    "\n",
    "# Calculating the total amount of debt recovered (assuming that all outstanding debt per customer is recovered)\n",
    "total_debt_recovered = cuentas_recuperadas * total_debt_pending\n",
    "\n",
    "print(\"Total debt recovered:\", total_debt_recovered)\n"
   ]
  },
  {
   "cell_type": "markdown",
   "metadata": {},
   "source": [
    "c. Revenue coming from collected interest. (Note that the total debt collected is not included in revenue, why?).\n",
    "\n",
    "R= To solve this point I will first convert the interest since I have values like 150 instead of 15% in my interest column (in case it is needed in an operation). Then to answer the question why the total debt collected is not included in revenue? This is because interest represents the additional profit earned by the lender on the principal amount borrowed.\n",
    "\n",
    "To calculate the \"Revenue coming from collected interest\", I will multiply the total amount of debt recovered by the percentage of interest collected."
   ]
  },
  {
   "cell_type": "code",
   "execution_count": 32,
   "metadata": {},
   "outputs": [],
   "source": [
    "# List of interests\n",
    "intereses = df[\"interest\"]   \n",
    "\n",
    "# I divide each interest value by 100 to convert it to a percentage.\n",
    "intereses_convertidos = [interes / 100 for interes in intereses]\n"
   ]
  },
  {
   "cell_type": "code",
   "execution_count": 33,
   "metadata": {},
   "outputs": [
    {
     "name": "stdout",
     "output_type": "stream",
     "text": [
      "Revenue coming from collected interest: 42450.00\n"
     ]
    }
   ],
   "source": [
    "from decimal import Decimal\n",
    "\n",
    "# Percentage of interest collected (in decimal format)\n",
    "porcentaje_intereses = Decimal('0.15')  # 15%\n",
    "\n",
    "# Revenue coming from collected interest\" is calculated by multiplying the debt recovered by the percentage of interest collected.\n",
    "revenue_intereses = total_debt_recovered * porcentaje_intereses\n",
    "\n",
    "print(\"Revenue coming from collected interest:\", revenue_intereses)"
   ]
  },
  {
   "cell_type": "markdown",
   "metadata": {},
   "source": [
    "d. Total campaign cost.\n",
    "\n",
    "R= To obtain this indicator I will multiply the cost per customer of the call campaign by the total number of DQ customers. Since the cost per customer of the call campaign is 30 pesos, we can multiply this value by the total number of DQ customers to obtain the total cost of the campaign."
   ]
  },
  {
   "cell_type": "code",
   "execution_count": 34,
   "metadata": {},
   "outputs": [
    {
     "name": "stdout",
     "output_type": "stream",
     "text": [
      "Total campaign cost: 20250 pesos\n"
     ]
    }
   ],
   "source": [
    "# Cost per customer of call campaign\n",
    "costo_por_cliente = 30  # in pesos\n",
    "\n",
    "# The total cost of the calling campaign is calculated.\n",
    "costo_total_campaña = total_clientes_DQ * costo_por_cliente\n",
    "\n",
    "print(\"Total campaign cost:\", costo_total_campaña, \"pesos\")\n"
   ]
  },
  {
   "cell_type": "markdown",
   "metadata": {},
   "source": [
    "f. DQ losses coming from uncollected total debt\n",
    "\n",
    "R= To find this indicator I am going to take into account two main factors\n",
    "\n",
    "- The number of DQ accounts that were not recovered.\n",
    "- The amount of total debt that was not recovered from these accounts.\n",
    "\n",
    "Since we have already calculated the expected number of recovered accounts (recovered_accounts), we can subtract this value from the total number of DQ customers to get the expected number of accounts that were not recovered. We can then calculate the amount of total debt that was not recovered by multiplying this number by the total amount of outstanding debt (total_debt_pending)."
   ]
  },
  {
   "cell_type": "code",
   "execution_count": 35,
   "metadata": {},
   "outputs": [
    {
     "name": "stdout",
     "output_type": "stream",
     "text": [
      "DQ losses coming from uncollected total debt: 392000\n"
     ]
    }
   ],
   "source": [
    "# Calculate the expected number of accounts that were not recovered\n",
    "cuentas_no_recuperadas = total_clientes_DQ - cuentas_recuperadas\n",
    "\n",
    "# DQ losses from total uncollected debt are calculated\n",
    "DQ_losses = cuentas_no_recuperadas * total_debt_pending\n",
    "\n",
    "print(\"DQ losses coming from uncollected total debt:\", DQ_losses)\n"
   ]
  },
  {
   "cell_type": "markdown",
   "metadata": {},
   "source": [
    "f. Collections income.\n",
    "\n",
    "R=  First we need to calculate the net income of the collection campaign. This is calculated by subtracting the Total campaign cost from the Recovered total debt and Revenue coming from collected interest."
   ]
  },
  {
   "cell_type": "code",
   "execution_count": 36,
   "metadata": {},
   "outputs": [
    {
     "name": "stdout",
     "output_type": "stream",
     "text": [
      "Collections income: 305200.00\n"
     ]
    }
   ],
   "source": [
    "# Total income generated by debt recovery\n",
    "ingreso_total_recuperacion = total_debt_recovered + revenue_intereses\n",
    "\n",
    "# Net income from the collection campaign\n",
    "ingreso_neto_cobranza = ingreso_total_recuperacion - costo_total_campaña\n",
    "\n",
    "print(\"Collections income:\", ingreso_neto_cobranza)"
   ]
  },
  {
   "cell_type": "markdown",
   "metadata": {},
   "source": [
    "Deliver your calculation in a spreadsheet, and attach a SQL code computing these results using the contactability score data provided by the data science team."
   ]
  },
  {
   "cell_type": "code",
   "execution_count": 37,
   "metadata": {},
   "outputs": [],
   "source": [
    "# I Created a table called 'indicators' with the specified columns\n",
    "create_table_query = \"\"\"\n",
    "CREATE TABLE indicadores (\n",
    "    cuentas_recuperadas numeric,\n",
    "    total_debt_recovered numeric,\n",
    "    revenue_intereses numeric,\n",
    "    costo_total_campaña numeric,\n",
    "    DQ_losses numeric,\n",
    "    ingreso_neto_cobranza numeric\n",
    ");\n",
    "\"\"\"\n",
    "\n",
    "# Then the SQL statement is executed to create the table\n",
    "with connection.cursor() as cursor:\n",
    "    cursor.execute(create_table_query)\n",
    "    connection.commit()\n"
   ]
  },
  {
   "cell_type": "code",
   "execution_count": 38,
   "metadata": {},
   "outputs": [],
   "source": [
    "# Now an insert SQL statement is created\n",
    "insert_query = \"\"\"\n",
    "INSERT INTO indicadores (cuentas_recuperadas, total_debt_recovered, revenue_intereses, costo_total_campaña, DQ_losses, ingreso_neto_cobranza)\n",
    "VALUES (%s, %s, %s, %s, %s, %s);\n",
    "\"\"\"\n",
    "\n",
    "# and the insertion SQL statement is executed\n",
    "with connection.cursor() as cursor:\n",
    "    cursor.execute(insert_query, (cuentas_recuperadas, total_debt_recovered, revenue_intereses, costo_total_campaña, DQ_losses, ingreso_neto_cobranza))\n",
    "    connection.commit()\n",
    "\n",
    "# The connection is closed\n",
    "connection.close()"
   ]
  },
  {
   "cell_type": "code",
   "execution_count": 39,
   "metadata": {},
   "outputs": [],
   "source": [
    "# Query to be provided to data scientists\n",
    "Query = \"\"\"\n",
    "SELECT * FROM Indicadores\n",
    "\"\"\""
   ]
  },
  {
   "cell_type": "markdown",
   "metadata": {},
   "source": [
    "### Question #2\n",
    "\n",
    "2. What is the impact delivered on overall business performance by this campaign? To answer this question, we provide the results of month 1 without collections in the table below. Using the results from the previous question and the data coming from the table, provide a justification for applying or not this collection strategy.\n",
    "\n",
    "R= The first thing I am going to do is bring the information provided in the guide (table below) to my notebook to be able to make a comparison between the df_without_collections indicators and the df_collections indicators (with collection) in order to get an answer that argues if we should apply or not this collection strategy."
   ]
  },
  {
   "cell_type": "code",
   "execution_count": 40,
   "metadata": {},
   "outputs": [
    {
     "name": "stdout",
     "output_type": "stream",
     "text": [
      "                Variable      Valor\n",
      "0               Accounts       5283\n",
      "1            DQ accounts        675\n",
      "2      revenue_intereses   42450.00\n",
      "3    costo_total_campaña      20250\n",
      "4              DQ_losses     392000\n",
      "5  ingreso_neto_cobranza  305200.00\n"
     ]
    }
   ],
   "source": [
    "import pandas as pd\n",
    "\n",
    "Total_new_accounts= cuentas_recuperadas + 5000\n",
    "\n",
    "# First I create a dictionary with the values\n",
    "data = {\n",
    "    \"Variable\": [\"Accounts\", \"DQ accounts\", \"revenue_intereses\", \"costo_total_campaña\", \"DQ_losses\", \"ingreso_neto_cobranza\"],\n",
    "    \"Valor\": [Total_new_accounts, 675, revenue_intereses, costo_total_campaña, DQ_losses, ingreso_neto_cobranza]\n",
    "}\n",
    "\n",
    "# Then I create the DataFrame\n",
    "df_collections = pd.DataFrame(data)\n",
    "\n",
    "# I finally see the DataFrame created\n",
    "print(df_collections)"
   ]
  },
  {
   "cell_type": "code",
   "execution_count": 41,
   "metadata": {},
   "outputs": [
    {
     "name": "stdout",
     "output_type": "stream",
     "text": [
      "           Variable   Valor\n",
      "0          Accounts    5000\n",
      "1       DQ accounts     675\n",
      "2  Interest revenue  648750\n",
      "3         DQ losses  675000\n",
      "4    Operative Cost  150000\n",
      "5        Net income -176250\n"
     ]
    }
   ],
   "source": [
    "# Now I repeat the previous process, but to the df_without_collections\n",
    "databelow = {\n",
    "    \"Variable\": [\"Accounts\", \"DQ accounts\", \"Interest revenue\", \"DQ losses\", \"Operative Cost\", \"Net income\"],\n",
    "    \"Valor\": [5000, 675, 648750, 675000, 150000, -176250]\n",
    "}\n",
    "\n",
    "# Dataframe creation\n",
    "df_without_collections  = pd.DataFrame(databelow)\n",
    "\n",
    "# DataFrame showed\n",
    "print(df_without_collections)   "
   ]
  },
  {
   "cell_type": "code",
   "execution_count": 42,
   "metadata": {},
   "outputs": [
    {
     "data": {
      "text/html": [
       "<div>\n",
       "<style scoped>\n",
       "    .dataframe tbody tr th:only-of-type {\n",
       "        vertical-align: middle;\n",
       "    }\n",
       "\n",
       "    .dataframe tbody tr th {\n",
       "        vertical-align: top;\n",
       "    }\n",
       "\n",
       "    .dataframe thead th {\n",
       "        text-align: right;\n",
       "    }\n",
       "</style>\n",
       "<table border=\"1\" class=\"dataframe\">\n",
       "  <thead>\n",
       "    <tr style=\"text-align: right;\">\n",
       "      <th></th>\n",
       "      <th>Variable</th>\n",
       "      <th>Valor_without_collections</th>\n",
       "      <th>Valor_with_collections</th>\n",
       "      <th>Diferencia_numerica</th>\n",
       "      <th>Diferencia_porcentaje</th>\n",
       "    </tr>\n",
       "  </thead>\n",
       "  <tbody>\n",
       "    <tr>\n",
       "      <th>0</th>\n",
       "      <td>Accounts</td>\n",
       "      <td>5000</td>\n",
       "      <td>5283</td>\n",
       "      <td>283</td>\n",
       "      <td>5.66</td>\n",
       "    </tr>\n",
       "    <tr>\n",
       "      <th>1</th>\n",
       "      <td>DQ accounts</td>\n",
       "      <td>675</td>\n",
       "      <td>675</td>\n",
       "      <td>0</td>\n",
       "      <td>0.0</td>\n",
       "    </tr>\n",
       "    <tr>\n",
       "      <th>2</th>\n",
       "      <td>Interest revenue</td>\n",
       "      <td>648750</td>\n",
       "      <td>42450.00</td>\n",
       "      <td>-606300.00</td>\n",
       "      <td>-93.46</td>\n",
       "    </tr>\n",
       "    <tr>\n",
       "      <th>3</th>\n",
       "      <td>DQ losses</td>\n",
       "      <td>675000</td>\n",
       "      <td>20250</td>\n",
       "      <td>-654750</td>\n",
       "      <td>-97.0</td>\n",
       "    </tr>\n",
       "    <tr>\n",
       "      <th>4</th>\n",
       "      <td>Operative Cost</td>\n",
       "      <td>150000</td>\n",
       "      <td>392000</td>\n",
       "      <td>242000</td>\n",
       "      <td>161.33</td>\n",
       "    </tr>\n",
       "    <tr>\n",
       "      <th>5</th>\n",
       "      <td>Net income</td>\n",
       "      <td>-176250</td>\n",
       "      <td>305200.00</td>\n",
       "      <td>481450.00</td>\n",
       "      <td>-273.16</td>\n",
       "    </tr>\n",
       "  </tbody>\n",
       "</table>\n",
       "</div>"
      ],
      "text/plain": [
       "           Variable  Valor_without_collections Valor_with_collections  \\\n",
       "0          Accounts                       5000                   5283   \n",
       "1       DQ accounts                        675                    675   \n",
       "2  Interest revenue                     648750               42450.00   \n",
       "3         DQ losses                     675000                  20250   \n",
       "4    Operative Cost                     150000                 392000   \n",
       "5        Net income                    -176250              305200.00   \n",
       "\n",
       "  Diferencia_numerica Diferencia_porcentaje  \n",
       "0                 283                  5.66  \n",
       "1                   0                   0.0  \n",
       "2          -606300.00                -93.46  \n",
       "3             -654750                 -97.0  \n",
       "4              242000                161.33  \n",
       "5           481450.00               -273.16  "
      ]
     },
     "execution_count": 42,
     "metadata": {},
     "output_type": "execute_result"
    }
   ],
   "source": [
    "\n",
    "# differences are calculated in numbers\n",
    "diferencias_numericas = [df_collections[\"Valor\"][i] - df_without_collections[\"Valor\"][i] for i in range(len(df_without_collections))]\n",
    "\n",
    "# Calculate the differences in percentage\n",
    "diferencias_porcentaje = [round((diferencias_numericas[i] / df_without_collections[\"Valor\"][i]) * 100, 2) for i in range(len(df_without_collections))]\n",
    "\n",
    "# A new DataFrame is created with the differences\n",
    "df_diferencias = pd.DataFrame({\n",
    "    \"Variable\": df_without_collections[\"Variable\"],\n",
    "    \"Valor_without_collections\": df_without_collections[\"Valor\"],\n",
    "    \"Valor_with_collections\": df_collections[\"Valor\"],\n",
    "    \"Diferencia_numerica\": diferencias_numericas,\n",
    "    \"Diferencia_porcentaje\": diferencias_porcentaje\n",
    "})\n",
    "\n",
    "# I round the values ​​in the DataFrame df_differences to a maximum of 2 decimal places\n",
    "df_diferencias_rounded = df_diferencias.round({'Valor_without_collections': 2, \n",
    "                                                'Valor_with_collections': 2, \n",
    "                                                'Diferencia_numerica': 2, \n",
    "                                                'Diferencia_porcentaje': 2})\n",
    "\n",
    "# And finally Print the DataFrame with the differences\n",
    "df_diferencias"
   ]
  },
  {
   "cell_type": "markdown",
   "metadata": {},
   "source": [
    "#### Conclusion\n",
    "\n",
    "- As we can see in our previous table, the campaign with collection is justified since mainly our net income is much higher than by not doing this collection campaign. Therefore, it is recommended to proceed with the campaign."
   ]
  },
  {
   "cell_type": "markdown",
   "metadata": {},
   "source": [
    "### Question #3\n",
    "\n",
    "Discuss some possible improvements to this campaign.\n",
    "\n",
    "R= The numbers don't lie, but when it comes to planning logic can be a strong ally, so some strategies that I would propose so that we have greater success in the campaign are the following:\n",
    "\n",
    "- Customer segmentation: Divide customers into different ones mainly by contactability_score to take into account mainly those whose contactability_score is much higher (Possibly I would do an ABC pareto).\n",
    "- Predictive analysis: We may use predictive analysis techniques to identify patterns and trends in the historical collection data of such clients (if we have these records). This will allow us to predict which customers are most likely to default on payments in the future and take preventive measures (remove them from the campaign).\n",
    "- Process automation: Implement automated collection management systems that can send payment reminders, track overdue accounts and assign tasks to collection agents efficiently, in order to reduce our phone call campaign costs.\n",
    "- Staff training: Before executing this training, it has happened to me before that we can have the perfect plan, but the execution is not aligned so anything we do may not work the way we expect.\n",
    "- Incentives and recognition: This goes hand in hand with staff training, by implementing a system of incentives and recognition we will motivate collection agents to achieve specific objectives and improve their performance in debt recovery.\n",
    "- Feedback and analysis of results: Collecting customer comments about their experience with the collection process (well categorized in a database) and using this information to make continuous improvements is essential to increase the effectiveness of future campaigns. Additionally, conduct regular analysis of collection campaign results to identify areas of opportunity and make informed decisions for the future."
   ]
  }
 ],
 "metadata": {
  "kernelspec": {
   "display_name": "base",
   "language": "python",
   "name": "python3"
  },
  "language_info": {
   "codemirror_mode": {
    "name": "ipython",
    "version": 3
   },
   "file_extension": ".py",
   "mimetype": "text/x-python",
   "name": "python",
   "nbconvert_exporter": "python",
   "pygments_lexer": "ipython3",
   "version": "3.10.9"
  }
 },
 "nbformat": 4,
 "nbformat_minor": 2
}
